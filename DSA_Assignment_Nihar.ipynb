{
    "cells": [
        {
            "cell_type": "markdown",
            "source": [
                "## Q.1) Write a program to find all pairs of an integer array whose sum is equal to a given number?\r\n"
            ],
            "metadata": {}
        },
        {
            "cell_type": "code",
            "execution_count": 35,
            "source": [
                "def pair_of_sum(arr, n, sum):\r\n",
                "    count = 0\r\n",
                "\r\n",
                "    for i in range(0, n):\r\n",
                "        for j in range(i+1,n):\r\n",
                "            if arr[i] + arr[j] == sum:\r\n",
                "                count += 1\r\n",
                "\r\n",
                "    return count"
            ],
            "outputs": [],
            "metadata": {}
        },
        {
            "cell_type": "code",
            "execution_count": 36,
            "source": [
                "arr = [8, 2, 7, 5, 3, 1]\r\n",
                "n = len(arr)\r\n",
                "sum = 7\r\n",
                "print(\"Count of pairs is {}\".format(pair_of_sum(arr, n, sum)))"
            ],
            "outputs": [
                {
                    "output_type": "stream",
                    "name": "stdout",
                    "text": [
                        "Count of pairs is 1\n"
                    ]
                }
            ],
            "metadata": {}
        },
        {
            "cell_type": "markdown",
            "source": [
                "## Q.2) Write a program to reverse an array in place? In place means you cannot create a new array. You have to update the original array."
            ],
            "metadata": {}
        },
        {
            "cell_type": "code",
            "execution_count": 37,
            "source": [
                "def reverse_an_array(arr):\r\n",
                "    print(arr[::-1])\r\n",
                "\r\n",
                "arr = [5,4,8,6,2,7]\r\n",
                "print('Reversed array is {}'.format(reverse_an_array(arr)))"
            ],
            "outputs": [
                {
                    "output_type": "stream",
                    "name": "stdout",
                    "text": [
                        "[7, 2, 6, 8, 4, 5]\n",
                        "Reversed array is None\n"
                    ]
                }
            ],
            "metadata": {}
        },
        {
            "cell_type": "markdown",
            "source": [
                "## Q.3) Write a program to check if two strings are a rotation of each other?"
            ],
            "metadata": {}
        },
        {
            "cell_type": "code",
            "execution_count": 38,
            "source": [
                "def strRotations(str1, str2):\r\n",
                "    size1 = len(str1)\r\n",
                "    size2 = len(str2)\r\n",
                "    temp = ''\r\n",
                "\r\n",
                "    if size1 != size2:\r\n",
                "        return 0\r\n",
                "\r\n",
                "    temp = str1 + str2\r\n",
                "\r\n",
                "    if (temp.count(str2)> 0):\r\n",
                "        return 1\r\n",
                "    else:\r\n",
                "        return 0"
            ],
            "outputs": [],
            "metadata": {}
        },
        {
            "cell_type": "code",
            "execution_count": 39,
            "source": [
                "str1 = 'AACD'\r\n",
                "str2 = 'ACDA'\r\n",
                "\r\n",
                "if strRotations(str1, str2):\r\n",
                "    print('Strings are rotations of each other')\r\n",
                "else:\r\n",
                "    print('Strings are not rotations of each other')"
            ],
            "outputs": [
                {
                    "output_type": "stream",
                    "name": "stdout",
                    "text": [
                        "Strings are rotations of each other\n"
                    ]
                }
            ],
            "metadata": {}
        },
        {
            "cell_type": "markdown",
            "source": [
                "## Q.4 Write a program to print the first non-repeated character from a string?\r\n",
                "\r\n"
            ],
            "metadata": {}
        },
        {
            "cell_type": "code",
            "execution_count": 40,
            "source": [
                "chars = 256\r\n",
                "\r\n",
                "def getCharCount(stri):\r\n",
                "    count = [0]*chars\r\n",
                "    for i in stri:\r\n",
                "        count[ord(i)] += 1\r\n",
                "    return count\r\n",
                "\r\n",
                "def firstNonRepeatingChar(stri):\r\n",
                "    count = getCharCount(stri)\r\n",
                "    index = -1\r\n",
                "    k = 0\r\n",
                "\r\n",
                "    for i in stri:\r\n",
                "        if count[ord(i)] == 1:\r\n",
                "            index = k\r\n",
                "            break\r\n",
                "        k = k + 1\r\n",
                "\r\n",
                "    return index\r\n"
            ],
            "outputs": [],
            "metadata": {}
        },
        {
            "cell_type": "code",
            "execution_count": 41,
            "source": [
                "stri = 'levvel'\r\n",
                "index = firstNonRepeatingChar(stri)\r\n",
                "if index == -1:\r\n",
                "    print('All characters are repeating or string is empty')\r\n",
                "else:\r\n",
                "    print('First non-repeating character is {}'.format(stri[index]))"
            ],
            "outputs": [
                {
                    "output_type": "stream",
                    "name": "stdout",
                    "text": [
                        "All characters are repeating or string is empty\n"
                    ]
                }
            ],
            "metadata": {}
        },
        {
            "cell_type": "markdown",
            "source": [
                "## Q.5) Read about the Tower of Hanoi algorithm. Write a program to implement it."
            ],
            "metadata": {}
        },
        {
            "cell_type": "code",
            "execution_count": 42,
            "source": [
                "def TowerofHanoi(n, from_rod, to_rod, empty_rod):\r\n",
                "    if n==1:\r\n",
                "        print(\"Move disk 1 from rod\", from_rod,\"to rod\",to_rod)\r\n",
                "        return\r\n",
                "    TowerofHanoi(n-1,from_rod, empty_rod, to_rod)\r\n",
                "    print(\"Move disk\",n,\"from rod\", from_rod,\"to rod\",to_rod)\r\n",
                "    TowerofHanoi(n-1, empty_rod, to_rod, from_rod)"
            ],
            "outputs": [],
            "metadata": {}
        },
        {
            "cell_type": "code",
            "execution_count": 43,
            "source": [
                "n = 4\r\n",
                "TowerofHanoi(n , 'A', 'C', 'B')"
            ],
            "outputs": [
                {
                    "output_type": "stream",
                    "name": "stdout",
                    "text": [
                        "Move disk 1 from rod A to rod B\n",
                        "Move disk 2 from rod A to rod C\n",
                        "Move disk 1 from rod B to rod C\n",
                        "Move disk 3 from rod A to rod B\n",
                        "Move disk 1 from rod C to rod A\n",
                        "Move disk 2 from rod C to rod B\n",
                        "Move disk 1 from rod A to rod B\n",
                        "Move disk 4 from rod A to rod C\n",
                        "Move disk 1 from rod B to rod C\n",
                        "Move disk 2 from rod B to rod A\n",
                        "Move disk 1 from rod C to rod A\n",
                        "Move disk 3 from rod B to rod C\n",
                        "Move disk 1 from rod A to rod B\n",
                        "Move disk 2 from rod A to rod C\n",
                        "Move disk 1 from rod B to rod C\n"
                    ]
                }
            ],
            "metadata": {}
        },
        {
            "cell_type": "markdown",
            "source": [
                "## Q.6) Read about infix, prefix and postfix expressions. Write a program to convert postfix to prefix expression."
            ],
            "metadata": {}
        },
        {
            "cell_type": "code",
            "execution_count": 46,
            "source": [
                "def isOperator(x):\r\n",
                "    if x == \"+\":\r\n",
                "        return True\r\n",
                "    if x == \"-\":\r\n",
                "        return True\r\n",
                "    if x == \"/\":\r\n",
                "        return True\r\n",
                "    if x == \"*\":\r\n",
                "        return True\r\n",
                "    \r\n",
                "    return False\r\n",
                "\r\n",
                "def postToPre(postfix_exp):\r\n",
                "\r\n",
                "    s = []\r\n",
                "\r\n",
                "    length = len(postfix_exp)\r\n",
                "\r\n",
                "    for i in range(length):\r\n",
                "        if (isOperator(postfix_exp[i])):\r\n",
                "            op1 = s[-1]\r\n",
                "            s.pop()\r\n",
                "            op2 = s[-1]\r\n",
                "            s.pop()\r\n",
                "\r\n",
                "            temp = postfix_exp[i] + op2 + op1\r\n",
                "\r\n",
                "            s.append(temp)\r\n",
                "        else:\r\n",
                "            s.append(postfix_exp[i])\r\n",
                "\r\n",
                "    ans = \"\"\r\n",
                "    for i in s:\r\n",
                "        ans += i\r\n",
                "    return ans\r\n"
            ],
            "outputs": [],
            "metadata": {}
        },
        {
            "cell_type": "code",
            "execution_count": 47,
            "source": [
                "postfix_exp = \"AB+CD-\"\r\n",
                "print(\"Prefix:\",(postToPre(str(postfix_exp))))"
            ],
            "outputs": [
                {
                    "output_type": "stream",
                    "name": "stdout",
                    "text": [
                        "Prefix: +AB-CD\n"
                    ]
                }
            ],
            "metadata": {}
        },
        {
            "cell_type": "markdown",
            "source": [
                "## Q.7) Write a program to convert prefix expression to infix expression."
            ],
            "metadata": {}
        },
        {
            "cell_type": "code",
            "execution_count": 1,
            "source": [
                "def isOperator(x):\r\n",
                "    if x == \"*\" or x == \"+\" or x == \"-\" or x == \"/\" or x == \"^\" or x == \"(\" or x == \")\":\r\n",
                "        return True\r\n",
                "    else:\r\n",
                "        return False\r\n",
                "\r\n",
                "def preToInf(prefix_exp):\r\n",
                "    stack = []\r\n",
                "\r\n",
                "    i = len(prefix_exp) - 1\r\n",
                "    while i >= 0:\r\n",
                "        if not isOperator(prefix_exp[i]):\r\n",
                "            stack.append(prefix_exp[i])\r\n",
                "            i = i-1\r\n",
                "        else:\r\n",
                "            str = \"(\" + stack.pop() + prefix_exp[i] + stack.pop() + \")\"\r\n",
                "            stack.append(str)\r\n",
                "            i = i-1\r\n",
                "\r\n",
                "    return stack.pop()"
            ],
            "outputs": [],
            "metadata": {}
        },
        {
            "cell_type": "code",
            "execution_count": 2,
            "source": [
                "str = \"*-A/BC-/AKL\"\r\n",
                "print(preToInf(str))"
            ],
            "outputs": [
                {
                    "output_type": "stream",
                    "name": "stdout",
                    "text": [
                        "((A-(B/C))*((A/K)-L))\n"
                    ]
                }
            ],
            "metadata": {}
        },
        {
            "cell_type": "markdown",
            "source": [
                "\r\n",
                "## Q.8) Write a program to check if all the brackets are closed in a given code snippet."
            ],
            "metadata": {}
        },
        {
            "cell_type": "code",
            "execution_count": 3,
            "source": [
                "def bracketsClosed(expr):\r\n",
                "    stack = []\r\n",
                "\r\n",
                "    for i in expr:\r\n",
                "        if i in [\"(\", \"{\", \"[\"]:\r\n",
                "\r\n",
                "            stack.append(i)\r\n",
                "        else:\r\n",
                "            if not stack:\r\n",
                "                return False\r\n",
                "    \r\n",
                "            current_char = stack.pop()\r\n",
                "            if current_char == \"(\":\r\n",
                "                if i != \")\":\r\n",
                "                    return False\r\n",
                "            if current_char == \"{\":\r\n",
                "                if i != \"}\":\r\n",
                "                    return False\r\n",
                "            if current_char == \"[\":\r\n",
                "                if i != \"]\":\r\n",
                "                    return False\r\n",
                "    \r\n",
                "    if stack:\r\n",
                "        return False\r\n",
                "    return True"
            ],
            "outputs": [],
            "metadata": {}
        },
        {
            "cell_type": "code",
            "execution_count": 5,
            "source": [
                "expr = \"{()}{[]}\"\r\n",
                "\r\n",
                "if bracketsClosed(expr):\r\n",
                "    print(\"Brackets are closed properly\")\r\n",
                "else:\r\n",
                "    print(\"Brackets are not closed properly\")"
            ],
            "outputs": [
                {
                    "output_type": "stream",
                    "name": "stdout",
                    "text": [
                        "Brackets are closed properly\n"
                    ]
                }
            ],
            "metadata": {}
        },
        {
            "cell_type": "markdown",
            "source": [
                "\r\n",
                "## Q.9) Write a program to reverse a stack.\r\n"
            ],
            "metadata": {}
        },
        {
            "cell_type": "code",
            "execution_count": 6,
            "source": [
                "class Stack():\r\n",
                "    def __init__(self):\r\n",
                "        self.item=[]\r\n",
                "        self.n=0\r\n",
                "    def __len__(self):\r\n",
                "        return self.n\r\n",
                "    def isEmpty(self):\r\n",
                "        return self.n==0\r\n",
                "    def push(self,item):\r\n",
                "        self.item.append(item)\r\n",
                "        self.n+=1\r\n",
                "    def pop(self):\r\n",
                "        ele=self.item.pop()\r\n",
                "        self.n-=1\r\n",
                "        return ele\r\n",
                "    def getPeek(self):\r\n",
                "        if self.n>0:\r\n",
                "            return self.item[-1]\r\n",
                "        return \"Stack is empty\"\r\n",
                "    def getStackitem(self):\r\n",
                "        return [self.item[i] for i in range(self.n)]\r\n",
                "\r\n",
                "\r\n",
                "def reversing(data):\r\n",
                "    x=Stack()\r\n",
                "    for i in data:\r\n",
                "        x.push(i)\r\n",
                "    y=Stack()\r\n",
                "    while not x.isEmpty():\r\n",
                "        y.push(x.pop())\r\n",
                "    return \"\".join(y.getStackitem())\r\n",
                "\r\n",
                "print(reversing(\"123456789\")) "
            ],
            "outputs": [
                {
                    "output_type": "stream",
                    "name": "stdout",
                    "text": [
                        "987654321\n"
                    ]
                }
            ],
            "metadata": {}
        },
        {
            "cell_type": "markdown",
            "source": [
                "## Q.10) Write a program to find the smallest number in using a stack."
            ],
            "metadata": {}
        },
        {
            "cell_type": "code",
            "execution_count": 11,
            "source": [
                "class Node:\r\n",
                "\tdef __init__(self, value):\r\n",
                "\t\tself.value = value\r\n",
                "\t\tself.next = None\r\n",
                "\r\n",
                "\tdef __str__(self):\r\n",
                "\t\treturn \"Node({})\".format(self.value)\r\n",
                "\r\n",
                "\r\n",
                "\r\n",
                "class Stack:\r\n",
                "\tdef __init__(self):\r\n",
                "\t\tself.top = None\r\n",
                "\t\tself.count = 0\r\n",
                "\t\tself.minimum = None\r\n",
                "\t\t\r\n",
                "\r\n",
                "\tdef __str__(self):\r\n",
                "\t\ttemp = self.top\r\n",
                "\t\tout = []\r\n",
                "\t\twhile temp:\r\n",
                "\t\t\tout.append(str(temp.value))\r\n",
                "\t\t\ttemp = temp.next\r\n",
                "\t\tout = '\\n'.join(out)\r\n",
                "\t\treturn ('Top {} \\n\\nStack :\\n{}'.format(self.top,out))\r\n",
                "\t\t\r\n",
                "\t\r\n",
                "\tdef getMin(self):\r\n",
                "\t\tif self.top is None:\r\n",
                "\t\t\treturn \"Stack is empty\"\r\n",
                "\t\telse:\r\n",
                "\t\t\tprint(\"Minimum Element in the stack is: {}\" .format(self.minimum))\r\n",
                "\r\n",
                "\tdef isEmpty(self):\r\n",
                "\t\tif self.top == None:\r\n",
                "\t\t\treturn True\r\n",
                "\t\telse:\r\n",
                "\t\t\treturn False\r\n",
                "\r\n",
                "\r\n",
                "\tdef __len__(self):\r\n",
                "\t\tself.count = 0\r\n",
                "\t\ttempNode = self.top\r\n",
                "\t\twhile tempNode:\r\n",
                "\t\t\ttempNode = tempNode.next\r\n",
                "\t\t\tself.count+=1\r\n",
                "\t\treturn self.count\r\n",
                "\r\n",
                "\r\n",
                "\tdef peek(self):\r\n",
                "\t\tif self.top is None:\r\n",
                "\t\t\tprint (\"Stack is empty\")\r\n",
                "\t\telse:\r\n",
                "\t\t\tif self.top.value < self.minimum:\r\n",
                "\t\t\t\tprint(\"Top Most Element is: {}\" .format(self.minimum))\r\n",
                "\t\t\telse:\r\n",
                "\t\t\t\tprint(\"Top Most Element is: {}\" .format(self.top.value))\r\n",
                "\r\n",
                "\r\n",
                "\tdef push(self,value):\r\n",
                "\t\tif self.top is None:\r\n",
                "\t\t\tself.top = Node(value)\r\n",
                "\t\t\tself.minimum = value\r\n",
                "\t\t\r\n",
                "\t\telif value < self.minimum:\r\n",
                "\t\t\ttemp = (2 * value) - self.minimum\r\n",
                "\t\t\tnew_node = Node(temp)\r\n",
                "\t\t\tnew_node.next = self.top\r\n",
                "\t\t\tself.top = new_node\r\n",
                "\t\t\tself.minimum = value\r\n",
                "\t\telse:\r\n",
                "\t\t\tnew_node = Node(value)\r\n",
                "\t\t\tnew_node.next = self.top\r\n",
                "\t\t\tself.top = new_node\r\n",
                "\t\tprint(\"Number Inserted: {}\" .format(value))\r\n",
                "\r\n",
                "\tdef pop(self):\r\n",
                "\t\tif self.top is None:\r\n",
                "\t\t\tprint( \"Stack is empty\")\r\n",
                "\t\telse:\r\n",
                "\t\t\tremovedNode = self.top.value\r\n",
                "\t\t\tself.top = self.top.next\r\n",
                "\t\t\tif removedNode < self.minimum:\r\n",
                "\t\t\t\tprint (\"Top Most Element Removed :{} \" .format(self.minimum))\r\n",
                "\t\t\t\tself.minimum = ( ( 2 * self.minimum ) - removedNode )\r\n",
                "\t\t\telse:\r\n",
                "\t\t\t\tprint (\"Top Most Element Removed : {}\" .format(removedNode))"
            ],
            "outputs": [],
            "metadata": {}
        },
        {
            "cell_type": "code",
            "execution_count": 12,
            "source": [
                "stack = Stack()\r\n",
                "\r\n",
                "stack.push(3)\r\n",
                "stack.push(5)\r\n",
                "stack.getMin()\r\n",
                "stack.push(2)\r\n",
                "stack.push(1)\r\n",
                "stack.getMin()\t\r\n",
                "stack.pop()\r\n",
                "stack.getMin()\r\n",
                "stack.pop()\r\n",
                "stack.peek()"
            ],
            "outputs": [
                {
                    "output_type": "stream",
                    "name": "stdout",
                    "text": [
                        "Number Inserted: 3\n",
                        "Number Inserted: 5\n",
                        "Minimum Element in the stack is: 3\n",
                        "Number Inserted: 2\n",
                        "Number Inserted: 1\n",
                        "Minimum Element in the stack is: 1\n",
                        "Top Most Element Removed :1 \n",
                        "Minimum Element in the stack is: 2\n",
                        "Top Most Element Removed :2 \n",
                        "Top Most Element is: 5\n"
                    ]
                }
            ],
            "metadata": {}
        }
    ],
    "metadata": {
        "orig_nbformat": 4,
        "language_info": {
            "name": "python",
            "version": "3.9.2",
            "mimetype": "text/x-python",
            "codemirror_mode": {
                "name": "ipython",
                "version": 3
            },
            "pygments_lexer": "ipython3",
            "nbconvert_exporter": "python",
            "file_extension": ".py"
        },
        "kernelspec": {
            "name": "python3",
            "display_name": "Python 3.9.2 64-bit"
        },
        "interpreter": {
            "hash": "d7509cf42864e0f13bc4b22dc2064bfc7104d50cfdf328934fe4a0c31d31fb0c"
        }
    },
    "nbformat": 4,
    "nbformat_minor": 2
}